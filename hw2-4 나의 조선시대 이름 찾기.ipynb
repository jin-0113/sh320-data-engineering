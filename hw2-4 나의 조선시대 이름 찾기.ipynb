{
 "cells": [
  {
   "cell_type": "markdown",
   "id": "1b926f85",
   "metadata": {},
   "source": [
    "hw2-4: 나의 조선시대 이름 찾기"
   ]
  },
  {
   "cell_type": "markdown",
   "id": "743a6d7a",
   "metadata": {},
   "source": [
    "1번 문제"
   ]
  },
  {
   "cell_type": "code",
   "execution_count": 23,
   "id": "7a5c7070",
   "metadata": {},
   "outputs": [
    {
     "name": "stdout",
     "output_type": "stream",
     "text": [
      "['쌍', '쇠', '복', '돌', '팽', '육', '쌍', '개', '칠', '갑', '삼', '방']\n"
     ]
    }
   ],
   "source": [
    "month = ['쌍', '쇠', '복', '돌', '팽', '육', '쌍', '개', '칠', '갑', '삼', '방']\n",
    "print(month)"
   ]
  },
  {
   "cell_type": "markdown",
   "id": "9259399b",
   "metadata": {},
   "source": [
    "2번 문제"
   ]
  },
  {
   "cell_type": "code",
   "execution_count": 24,
   "id": "aee55e2a",
   "metadata": {},
   "outputs": [
    {
     "name": "stdout",
     "output_type": "stream",
     "text": [
      "['봉', '구', '욕', '포', '똥', '삼', '식', '석', '놈', '님', '년', '돌', '단', '득', '방', '질', '장', '걸', '래', '룡', '동', '순', '자', '박', '창', '언', '것', '포', '만', '단', '국']\n"
     ]
    }
   ],
   "source": [
    "day = ['봉', '구', '욕', '포', '똥', '삼', '식', '석', '놈', '님', '년', '돌', '단', '득', '방', '질', '장', '걸', '래', '룡', '동', '순', '자', '박', '창', '언', '것', '포', '만', '단', '국']\n",
    "print(day)"
   ]
  },
  {
   "cell_type": "markdown",
   "id": "710c4766",
   "metadata": {},
   "source": [
    "3번 문제"
   ]
  },
  {
   "cell_type": "code",
   "execution_count": 33,
   "id": "d3aa1077",
   "metadata": {},
   "outputs": [],
   "source": [
    "def get_my_chosun_name(family_name, birth_month, birth_day):\n",
    "    chosun_name = family_name + month[birth_month - 1] + day[birth_day - 1]\n",
    "    print(f\"당신의 조선시대 이름은 {chosun_name} 입니다.\")"
   ]
  },
  {
   "cell_type": "markdown",
   "id": "1cf553be",
   "metadata": {},
   "source": [
    "4번 문제"
   ]
  },
  {
   "cell_type": "code",
   "execution_count": 35,
   "id": "f42ff993",
   "metadata": {},
   "outputs": [
    {
     "name": "stdout",
     "output_type": "stream",
     "text": [
      "당신의 조선시대 이름은 한쌍단 입니다.\n"
     ]
    }
   ],
   "source": [
    "get_my_chosun_name('한', 1, 13)\n"
   ]
  }
 ],
 "metadata": {
  "kernelspec": {
   "display_name": "DNN_Basic_py31111",
   "language": "python",
   "name": "python3"
  },
  "language_info": {
   "codemirror_mode": {
    "name": "ipython",
    "version": 3
   },
   "file_extension": ".py",
   "mimetype": "text/x-python",
   "name": "python",
   "nbconvert_exporter": "python",
   "pygments_lexer": "ipython3",
   "version": "3.11.11"
  }
 },
 "nbformat": 4,
 "nbformat_minor": 5
}

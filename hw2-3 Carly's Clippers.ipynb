{
 "cells": [
  {
   "cell_type": "markdown",
   "id": "800cf8d6",
   "metadata": {},
   "source": [
    "hw2-3: Carly's Clippers"
   ]
  },
  {
   "cell_type": "code",
   "execution_count": 16,
   "id": "06f54b04",
   "metadata": {},
   "outputs": [],
   "source": [
    "hairstyles = [\"bouffant\", \"pixie\", \"dreadlocks\", \"crew\", \"bowl\", \"bob\", \"mohawk\", \"flattop\"]\n",
    "prices = [30, 25, 40, 20, 20, 35, 50, 35]\n",
    "last_week = [2, 3, 5, 8, 4, 4, 6, 2]"
   ]
  },
  {
   "cell_type": "markdown",
   "id": "4f165809",
   "metadata": {},
   "source": [
    "1번 문제"
   ]
  },
  {
   "cell_type": "code",
   "execution_count": 17,
   "id": "91e3f93c",
   "metadata": {},
   "outputs": [],
   "source": [
    "total_price = 0"
   ]
  },
  {
   "cell_type": "markdown",
   "id": "723ffc39",
   "metadata": {},
   "source": [
    "2번 문제"
   ]
  },
  {
   "cell_type": "code",
   "execution_count": 18,
   "id": "51022add",
   "metadata": {},
   "outputs": [],
   "source": [
    "for price in prices:\n",
    "    total_price += price"
   ]
  },
  {
   "cell_type": "markdown",
   "id": "bc283209",
   "metadata": {},
   "source": [
    "3번 문제"
   ]
  },
  {
   "cell_type": "code",
   "execution_count": 19,
   "id": "a4fbf966",
   "metadata": {},
   "outputs": [],
   "source": [
    "average_price = total_price / len(prices)"
   ]
  },
  {
   "cell_type": "markdown",
   "id": "d8758a70",
   "metadata": {},
   "source": [
    "4번 문제"
   ]
  },
  {
   "cell_type": "code",
   "execution_count": 20,
   "id": "80c4b32e",
   "metadata": {},
   "outputs": [
    {
     "name": "stdout",
     "output_type": "stream",
     "text": [
      "Average_price is 31.875\n"
     ]
    }
   ],
   "source": [
    "print(\"Average_price is\", average_price)"
   ]
  },
  {
   "cell_type": "markdown",
   "id": "4f5a3bc0",
   "metadata": {},
   "source": [
    "5번 문제"
   ]
  },
  {
   "cell_type": "code",
   "execution_count": 23,
   "id": "79eb22c7",
   "metadata": {},
   "outputs": [],
   "source": [
    "new_prices = [price - 5 for price in prices]"
   ]
  },
  {
   "cell_type": "markdown",
   "id": "34887475",
   "metadata": {},
   "source": [
    "6번 문제"
   ]
  },
  {
   "cell_type": "code",
   "execution_count": 24,
   "id": "a63c2deb",
   "metadata": {},
   "outputs": [
    {
     "name": "stdout",
     "output_type": "stream",
     "text": [
      "[25, 20, 35, 15, 15, 30, 45, 30]\n"
     ]
    }
   ],
   "source": [
    "print(new_prices)"
   ]
  },
  {
   "cell_type": "markdown",
   "id": "bad078b4",
   "metadata": {},
   "source": [
    "7번 문제"
   ]
  },
  {
   "cell_type": "code",
   "execution_count": 10,
   "id": "0530bf75",
   "metadata": {},
   "outputs": [],
   "source": [
    "total_revenue = 0"
   ]
  },
  {
   "cell_type": "markdown",
   "id": "bf3740bb",
   "metadata": {},
   "source": [
    "8번 문제"
   ]
  },
  {
   "cell_type": "code",
   "execution_count": 25,
   "id": "fb021231",
   "metadata": {},
   "outputs": [
    {
     "name": "stdout",
     "output_type": "stream",
     "text": [
      "bouffant 30\n",
      "pixie 25\n",
      "dreadlocks 40\n",
      "crew 20\n",
      "bowl 20\n",
      "bob 35\n",
      "mohawk 50\n",
      "flattop 35\n"
     ]
    }
   ],
   "source": [
    "for i in range(len(hairstyles)):\n",
    "    print(hairstyles[i], prices[i])"
   ]
  },
  {
   "cell_type": "markdown",
   "id": "cb343d7c",
   "metadata": {},
   "source": [
    "9번 문제"
   ]
  },
  {
   "cell_type": "code",
   "execution_count": 26,
   "id": "00537fee",
   "metadata": {},
   "outputs": [],
   "source": [
    "for i in range(len(prices)):\n",
    "    total_revenue += prices[i] * last_week[i]"
   ]
  },
  {
   "cell_type": "markdown",
   "id": "c6934b36",
   "metadata": {},
   "source": [
    "10번 문제"
   ]
  },
  {
   "cell_type": "code",
   "execution_count": 27,
   "id": "147cd94a",
   "metadata": {},
   "outputs": [
    {
     "name": "stdout",
     "output_type": "stream",
     "text": [
      "1085\n"
     ]
    }
   ],
   "source": [
    "print(total_revenue)"
   ]
  },
  {
   "cell_type": "markdown",
   "id": "e8f12244",
   "metadata": {},
   "source": [
    "11번 문제"
   ]
  },
  {
   "cell_type": "code",
   "execution_count": 28,
   "id": "88d33a5b",
   "metadata": {},
   "outputs": [
    {
     "name": "stdout",
     "output_type": "stream",
     "text": [
      "Average daily revenue is 155.0\n"
     ]
    }
   ],
   "source": [
    "average_daily_revenue = total_revenue / 7\n",
    "print(\"Average daily revenue is\", average_daily_revenue)"
   ]
  },
  {
   "cell_type": "markdown",
   "id": "ff4c4c0b",
   "metadata": {},
   "source": [
    "12번 문제"
   ]
  },
  {
   "cell_type": "code",
   "execution_count": 32,
   "id": "92d3b8e1",
   "metadata": {},
   "outputs": [],
   "source": [
    "cuts_under_30 = [hairstyles[i] for i in range(len(new_prices)) if new_prices[i] < 30]"
   ]
  },
  {
   "cell_type": "markdown",
   "id": "a0325308",
   "metadata": {},
   "source": [
    "13번 문제"
   ]
  },
  {
   "cell_type": "code",
   "execution_count": 33,
   "id": "24fd3aaa",
   "metadata": {},
   "outputs": [
    {
     "name": "stdout",
     "output_type": "stream",
     "text": [
      "['bouffant', 'pixie', 'crew', 'bowl']\n"
     ]
    }
   ],
   "source": [
    "print(cuts_under_30)"
   ]
  }
 ],
 "metadata": {
  "kernelspec": {
   "display_name": "DNN_Basic_py31111",
   "language": "python",
   "name": "python3"
  },
  "language_info": {
   "codemirror_mode": {
    "name": "ipython",
    "version": 3
   },
   "file_extension": ".py",
   "mimetype": "text/x-python",
   "name": "python",
   "nbconvert_exporter": "python",
   "pygments_lexer": "ipython3",
   "version": "3.11.11"
  }
 },
 "nbformat": 4,
 "nbformat_minor": 5
}

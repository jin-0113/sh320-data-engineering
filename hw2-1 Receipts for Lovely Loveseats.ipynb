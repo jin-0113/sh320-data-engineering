{
 "cells": [
  {
   "cell_type": "markdown",
   "id": "4c6fea2f",
   "metadata": {},
   "source": [
    "hw1_영수증"
   ]
  },
  {
   "cell_type": "markdown",
   "id": "181e57f7",
   "metadata": {},
   "source": [
    "1번 문제"
   ]
  },
  {
   "cell_type": "code",
   "execution_count": 15,
   "id": "085f07eb",
   "metadata": {},
   "outputs": [],
   "source": [
    "lovely_loveseat_description = \"Lovely Loveseat. Tufted polyester blend on wood. 32 inches high x 40 inches wide x 30 inches deep. Red or white.\""
   ]
  },
  {
   "cell_type": "markdown",
   "id": "718fca42",
   "metadata": {},
   "source": [
    "2번 문제"
   ]
  },
  {
   "cell_type": "code",
   "execution_count": 16,
   "id": "676012ce",
   "metadata": {},
   "outputs": [],
   "source": [
    "lovely_loveseat_price = 254.00"
   ]
  },
  {
   "cell_type": "markdown",
   "id": "a42b614f",
   "metadata": {},
   "source": [
    "3번 문제"
   ]
  },
  {
   "cell_type": "code",
   "execution_count": 17,
   "id": "3c56ad9b",
   "metadata": {},
   "outputs": [],
   "source": [
    "stylish_settee_description = \"Stylish Settee. Faux leather on birch. 29.50 inches high x 54.75 inches wide x 28 inches deep. Black.\""
   ]
  },
  {
   "cell_type": "markdown",
   "id": "c139dfb6",
   "metadata": {},
   "source": [
    "4번 문제"
   ]
  },
  {
   "cell_type": "code",
   "execution_count": 18,
   "id": "9e85d215",
   "metadata": {},
   "outputs": [],
   "source": [
    "stylish_settee_price = 180.50"
   ]
  },
  {
   "cell_type": "markdown",
   "id": "88b1b777",
   "metadata": {},
   "source": [
    "5번 문제"
   ]
  },
  {
   "cell_type": "code",
   "execution_count": 19,
   "id": "38968f86",
   "metadata": {},
   "outputs": [],
   "source": [
    "luxurious_lamp_description = \"Luxurious Lamp. Glass and iron. 36 inches tall. Brown with cream shade.\""
   ]
  },
  {
   "cell_type": "markdown",
   "id": "29005a9f",
   "metadata": {},
   "source": [
    "6번 문제"
   ]
  },
  {
   "cell_type": "code",
   "execution_count": 20,
   "id": "57de06b8",
   "metadata": {},
   "outputs": [],
   "source": [
    "luxurious_lamp_description = 52.15"
   ]
  },
  {
   "cell_type": "markdown",
   "id": "ec2c55ac",
   "metadata": {},
   "source": [
    "7번 문제"
   ]
  },
  {
   "cell_type": "code",
   "execution_count": 21,
   "id": "a0c67670",
   "metadata": {},
   "outputs": [],
   "source": [
    "sales_tax = 0.088"
   ]
  },
  {
   "cell_type": "markdown",
   "id": "624bb4a0",
   "metadata": {},
   "source": [
    "8번 문제"
   ]
  },
  {
   "cell_type": "code",
   "execution_count": 22,
   "id": "ae7e7e18",
   "metadata": {},
   "outputs": [],
   "source": [
    "customer_one_total = 0"
   ]
  },
  {
   "cell_type": "markdown",
   "id": "95133aad",
   "metadata": {},
   "source": [
    "9번 문제"
   ]
  },
  {
   "cell_type": "code",
   "execution_count": 23,
   "id": "28e7c66b",
   "metadata": {},
   "outputs": [],
   "source": [
    "customer_one_itemization = \"\""
   ]
  },
  {
   "cell_type": "markdown",
   "id": "abe1ed23",
   "metadata": {},
   "source": [
    "10번 문제"
   ]
  },
  {
   "cell_type": "code",
   "execution_count": 24,
   "id": "1ab3163c",
   "metadata": {},
   "outputs": [],
   "source": [
    "customer_one_total += lovely_loveseat_price"
   ]
  },
  {
   "cell_type": "markdown",
   "id": "63324ca3",
   "metadata": {},
   "source": [
    "11번 문제제"
   ]
  },
  {
   "cell_type": "code",
   "execution_count": 25,
   "id": "43710214",
   "metadata": {},
   "outputs": [],
   "source": [
    "customer_one_itemization += lovely_loveseat_description"
   ]
  },
  {
   "cell_type": "markdown",
   "id": "1e07240a",
   "metadata": {},
   "source": [
    "12번 문제"
   ]
  },
  {
   "cell_type": "code",
   "execution_count": 26,
   "id": "f397b82e",
   "metadata": {},
   "outputs": [],
   "source": [
    "luxurious_lamp_description = \"Luxurious Lamp. Glass and iron. 36 inches tall. Brown with cream shade.\"\n",
    "luxurious_lamp_price = 52.15\n"
   ]
  },
  {
   "cell_type": "markdown",
   "id": "6959911e",
   "metadata": {},
   "source": [
    "13번 문제"
   ]
  },
  {
   "cell_type": "code",
   "execution_count": 27,
   "id": "fabe4a00",
   "metadata": {},
   "outputs": [],
   "source": [
    "customer_one_itemization += luxurious_lamp_description"
   ]
  },
  {
   "cell_type": "markdown",
   "id": "83ece64a",
   "metadata": {},
   "source": [
    "14번 문제"
   ]
  },
  {
   "cell_type": "code",
   "execution_count": 28,
   "id": "49d02fb0",
   "metadata": {},
   "outputs": [],
   "source": [
    "customer_one_tax = customer_one_total * sales_tax"
   ]
  },
  {
   "cell_type": "markdown",
   "id": "d2627e3c",
   "metadata": {},
   "source": [
    "15번 문제"
   ]
  },
  {
   "cell_type": "code",
   "execution_count": 29,
   "id": "9f75c061",
   "metadata": {},
   "outputs": [],
   "source": [
    "customer_one_total_add_tax = customer_one_total + customer_one_tax"
   ]
  },
  {
   "cell_type": "markdown",
   "id": "d9a568af",
   "metadata": {},
   "source": [
    "16번 문제"
   ]
  },
  {
   "cell_type": "code",
   "execution_count": 32,
   "id": "61db88a3",
   "metadata": {},
   "outputs": [
    {
     "name": "stdout",
     "output_type": "stream",
     "text": [
      "Customer One Items:\n"
     ]
    }
   ],
   "source": [
    "print(\"Customer One Items:\")"
   ]
  },
  {
   "cell_type": "markdown",
   "id": "9d6a62db",
   "metadata": {},
   "source": [
    "17번 문제"
   ]
  },
  {
   "cell_type": "code",
   "execution_count": 33,
   "id": "070fdcba",
   "metadata": {},
   "outputs": [
    {
     "name": "stdout",
     "output_type": "stream",
     "text": [
      "Lovely Loveseat. Tufted polyester blend on wood. 32 inches high x 40 inches wide x 30 inches deep. Red or white.Luxurious Lamp. Glass and iron. 36 inches tall. Brown with cream shade.\n"
     ]
    }
   ],
   "source": [
    "print(customer_one_itemization)"
   ]
  },
  {
   "cell_type": "markdown",
   "id": "c0c1cbda",
   "metadata": {},
   "source": [
    "18번 문제"
   ]
  },
  {
   "cell_type": "code",
   "execution_count": 40,
   "id": "0a9131b2",
   "metadata": {},
   "outputs": [
    {
     "name": "stdout",
     "output_type": "stream",
     "text": [
      "Total Cost: 276.35\n"
     ]
    }
   ],
   "source": [
    "print(\"Total Cost:\",round(customer_one_total_add_tax, 2))"
   ]
  },
  {
   "cell_type": "markdown",
   "id": "1bac76d3",
   "metadata": {},
   "source": [
    "19번 문제"
   ]
  },
  {
   "cell_type": "code",
   "execution_count": 43,
   "id": "d4a1c20f",
   "metadata": {},
   "outputs": [
    {
     "name": "stdout",
     "output_type": "stream",
     "text": [
      "Customer One Items:  Lovely Loveseat. Tufted polyester blend on wood. 32 inches high x 40 inches wide x 30 inches deep. Red or white.Luxurious Lamp. Glass and iron. 36 inches tall. Brown with cream shade.\n",
      "Total Cost 276.35\n"
     ]
    }
   ],
   "source": [
    "print(\"Customer One Items: \", customer_one_itemization)\n",
    "print(\"Total Cost\", round(customer_one_total_add_tax, 2))"
   ]
  }
 ],
 "metadata": {
  "kernelspec": {
   "display_name": "DNN_Basic_py31111",
   "language": "python",
   "name": "python3"
  },
  "language_info": {
   "codemirror_mode": {
    "name": "ipython",
    "version": 3
   },
   "file_extension": ".py",
   "mimetype": "text/x-python",
   "name": "python",
   "nbconvert_exporter": "python",
   "pygments_lexer": "ipython3",
   "version": "3.11.11"
  }
 },
 "nbformat": 4,
 "nbformat_minor": 5
}

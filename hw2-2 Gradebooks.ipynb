{
 "cells": [
  {
   "cell_type": "markdown",
   "id": "02459766",
   "metadata": {},
   "source": [
    "hw2-2: Gradebooks"
   ]
  },
  {
   "cell_type": "markdown",
   "id": "57ea8f92",
   "metadata": {},
   "source": [
    "1번 문제"
   ]
  },
  {
   "cell_type": "code",
   "execution_count": 45,
   "id": "f9c65849",
   "metadata": {},
   "outputs": [],
   "source": [
    "subjects = [\"physics\", \"calculus\", \"poetry\", \"history\"]"
   ]
  },
  {
   "cell_type": "markdown",
   "id": "84839dfe",
   "metadata": {},
   "source": [
    "2번 문제"
   ]
  },
  {
   "cell_type": "code",
   "execution_count": 46,
   "id": "67c4871e",
   "metadata": {},
   "outputs": [],
   "source": [
    "grades = [98, 97, 85, 88]"
   ]
  },
  {
   "cell_type": "markdown",
   "id": "3d694e61",
   "metadata": {},
   "source": [
    "3번 문제"
   ]
  },
  {
   "cell_type": "code",
   "execution_count": 47,
   "id": "00e9f3a6",
   "metadata": {},
   "outputs": [],
   "source": [
    "gradebook = [\n",
    "    [\"physics\", 98],\n",
    "    [\"calculus\", 97],\n",
    "    [\"poetry\", 85],\n",
    "    [\"history\", 88]\n",
    "]"
   ]
  },
  {
   "cell_type": "markdown",
   "id": "55eb7ed1",
   "metadata": {},
   "source": [
    "4번 문제"
   ]
  },
  {
   "cell_type": "code",
   "execution_count": 48,
   "id": "04569db2",
   "metadata": {},
   "outputs": [
    {
     "name": "stdout",
     "output_type": "stream",
     "text": [
      "[['physics', 98], ['calculus', 97], ['poetry', 85], ['history', 88]]\n"
     ]
    }
   ],
   "source": [
    "print(gradebook)"
   ]
  },
  {
   "cell_type": "markdown",
   "id": "e26d708b",
   "metadata": {},
   "source": [
    "5번 문제"
   ]
  },
  {
   "cell_type": "code",
   "execution_count": 49,
   "id": "2a638664",
   "metadata": {},
   "outputs": [
    {
     "name": "stdout",
     "output_type": "stream",
     "text": [
      "[['physics', 98], ['calculus', 97], ['poetry', 85], ['history', 88], ['computer science', 100]]\n"
     ]
    }
   ],
   "source": [
    "if [\"computer science\", 100] not in gradebook:\n",
    "    gradebook.append([\"computer science\", 100])\n",
    "print(gradebook)"
   ]
  },
  {
   "cell_type": "markdown",
   "id": "a7c95435",
   "metadata": {},
   "source": [
    "6번 문제"
   ]
  },
  {
   "cell_type": "code",
   "execution_count": 50,
   "id": "2303edcb",
   "metadata": {},
   "outputs": [
    {
     "name": "stdout",
     "output_type": "stream",
     "text": [
      "[['physics', 98], ['calculus', 97], ['poetry', 85], ['history', 88], ['computer science', 100], ['visual arts', 93]]\n"
     ]
    }
   ],
   "source": [
    "if [\"visual arts\", 93] not in gradebook:\n",
    "    gradebook.append([\"visual arts\", 93])\n",
    "print(gradebook)"
   ]
  },
  {
   "cell_type": "markdown",
   "id": "4efdb862",
   "metadata": {},
   "source": [
    "7번 문제"
   ]
  },
  {
   "cell_type": "code",
   "execution_count": 51,
   "id": "88ce3710",
   "metadata": {},
   "outputs": [
    {
     "name": "stdout",
     "output_type": "stream",
     "text": [
      "[['physics', 98], ['calculus', 97], ['poetry', 85], ['history', 88], ['computer science', 100], ['visual arts', 98]]\n"
     ]
    }
   ],
   "source": [
    "for subjects in gradebook:\n",
    "    if subjects[0] == \"visual arts\":\n",
    "        subjects[1] += 5\n",
    "print(gradebook)"
   ]
  },
  {
   "cell_type": "markdown",
   "id": "325910f6",
   "metadata": {},
   "source": [
    "8번 문제"
   ]
  },
  {
   "cell_type": "code",
   "execution_count": 52,
   "id": "47716adf",
   "metadata": {},
   "outputs": [
    {
     "name": "stdout",
     "output_type": "stream",
     "text": [
      "[['physics', 98], ['calculus', 97], ['poetry'], ['history', 88], ['computer science', 100], ['visual arts', 98]]\n"
     ]
    }
   ],
   "source": [
    "for subjects in gradebook:\n",
    "    if subjects[0] == \"poetry\":\n",
    "        subjects.remove(subjects[1])\n",
    "        break\n",
    "print(gradebook)"
   ]
  },
  {
   "cell_type": "markdown",
   "id": "561d021f",
   "metadata": {},
   "source": [
    "9번 문제"
   ]
  },
  {
   "cell_type": "code",
   "execution_count": 53,
   "id": "93c0d723",
   "metadata": {},
   "outputs": [
    {
     "name": "stdout",
     "output_type": "stream",
     "text": [
      "[['physics', 98], ['calculus', 97], ['poetry', 'Pass'], ['history', 88], ['computer science', 100], ['visual arts', 98]]\n"
     ]
    }
   ],
   "source": [
    "for subjects in gradebook:\n",
    "    if subjects[0] == \"poetry\":\n",
    "        subjects.append(\"Pass\")\n",
    "        break\n",
    "print(gradebook)"
   ]
  },
  {
   "cell_type": "markdown",
   "id": "1613a4b8",
   "metadata": {},
   "source": [
    "10번 문제"
   ]
  },
  {
   "cell_type": "code",
   "execution_count": 54,
   "id": "4a8aed1c",
   "metadata": {},
   "outputs": [
    {
     "name": "stdout",
     "output_type": "stream",
     "text": [
      "[['politics', 80], ['latin', 96], ['dance', 97], ['architecture', 65], ['physics', 98], ['calculus', 97], ['poetry', 'Pass'], ['history', 88], ['computer science', 100], ['visual arts', 98]]\n"
     ]
    }
   ],
   "source": [
    "last_semester_gradebook = [\n",
    "    [\"politics\", 80], \n",
    "    [\"latin\", 96], \n",
    "    [\"dance\", 97], \n",
    "    [\"architecture\", 65]]\n",
    "\n",
    "full_gradebook = last_semester_gradebook + gradebook\n",
    "print(full_gradebook)"
   ]
  }
 ],
 "metadata": {
  "kernelspec": {
   "display_name": "DNN_Basic_py31111",
   "language": "python",
   "name": "python3"
  },
  "language_info": {
   "codemirror_mode": {
    "name": "ipython",
    "version": 3
   },
   "file_extension": ".py",
   "mimetype": "text/x-python",
   "name": "python",
   "nbconvert_exporter": "python",
   "pygments_lexer": "ipython3",
   "version": "3.11.11"
  }
 },
 "nbformat": 4,
 "nbformat_minor": 5
}
